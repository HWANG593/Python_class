{
 "cells": [
  {
   "cell_type": "code",
   "execution_count": 100,
   "metadata": {},
   "outputs": [],
   "source": [
    "from selenium import webdriver\n",
    "from selenium.webdriver.common.by import By\n",
    "import time\n",
    "\n",
    "driver = webdriver.Chrome('C:/Temp/chromedriver')\n",
    "driver.implicitly_wait(3) \n",
    "\n",
    "driver.get(\"http://gs25.gsretail.com/gscvs/ko/products/event-goods\")\n",
    "\n",
    "time.sleep(3)\n",
    "TwoToOne = driver.find_element_by_css_selector('#TWO_TO_ONE')\n",
    "TwoToOne.click()\n",
    "time.sleep(1)\n",
    "\n",
    "item_List = []\n",
    "price_List = []\n",
    "\n",
    "itemList = driver.find_elements_by_css_selector('#contents > div.cnt > div.cnt_section.mt50 > div > div > div:nth-child(5) > ul > li> div > p.tit')\n",
    "priceList = driver.find_elements_by_css_selector('#contents > div.cnt > div.cnt_section.mt50 > div > div > div:nth-child(5) > ul > li > div > p.price > span')\n",
    "for i in itemList:\n",
    "    item_List.append(i.text)\n",
    "\n",
    "for j in priceList:\n",
    "    price = j.text\n",
    "    price = price.replace(',','')\n",
    "    price = price.replace('원','')\n",
    "    price_List.append(price)\n",
    "    \n",
    "while True:\n",
    "    Nextpage = driver.find_element_by_css_selector('#contents > div.cnt > div.cnt_section.mt50 > div > div > div:nth-child(5) > div > a.next')\n",
    "    Nextpage.click()\n",
    "    \n",
    "    time.sleep(1)\n",
    "        \n",
    "    itemList = driver.find_elements_by_css_selector('#contents > div.cnt > div.cnt_section.mt50 > div > div > div:nth-child(5) > ul > li> div > p.tit')\n",
    "    priceList = driver.find_elements_by_css_selector('#contents > div.cnt > div.cnt_section.mt50 > div > div > div:nth-child(5) > ul > li > div > p.price > span')\n",
    "\n",
    "    for i in itemList:\n",
    "        item_List.append(i.text)\n",
    "\n",
    "    for j in priceList:\n",
    "        price = j.text\n",
    "        price = price.replace(',','')\n",
    "        price = price.replace('원','')\n",
    "        price_List.append(price)\n",
    "    \n",
    "    Nextbutton = driver.find_element_by_css_selector('#contents > div.cnt > div.cnt_section.mt50 > div > div > div:nth-child(5) > div > a.next')\n",
    "    mark = Nextbutton.get_attribute('onclick')\n",
    "    \n",
    "    if (mark != 'goodsPageController.moveControl(1)'):\n",
    "        break\n",
    "        \n",
    "with open('output/gs25_twotoone.csv', \"wt\", encoding=\"utf-8\") as f:\n",
    "    f.write('goodsname,goodsprice\\n')  \n",
    "    for i in range(len(item_List)):\n",
    "        f.write(item_List[i]+\",\"+price_List[i]+'\\n')  "
   ]
  }
 ],
 "metadata": {
  "kernelspec": {
   "display_name": "pydatavenv",
   "language": "python",
   "name": "pydatavenv"
  },
  "language_info": {
   "codemirror_mode": {
    "name": "ipython",
    "version": 3
   },
   "file_extension": ".py",
   "mimetype": "text/x-python",
   "name": "python",
   "nbconvert_exporter": "python",
   "pygments_lexer": "ipython3",
   "version": "3.8.8"
  }
 },
 "nbformat": 4,
 "nbformat_minor": 4
}
