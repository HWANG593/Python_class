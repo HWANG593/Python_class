{
 "cells": [
  {
   "cell_type": "code",
   "execution_count": 79,
   "metadata": {},
   "outputs": [],
   "source": [
    "import urllib.request\n",
    "import json\n",
    "from bs4 import BeautifulSoup\n",
    "\n",
    "client_id = 'izGsqP2exeThwwEUVU3x'\n",
    "client_secret = 'WrwbQ1l6ZI'\n",
    "\n",
    "\n",
    "def naver_search(keyword, callType = 'JSON'):\n",
    "    url = \"https://openapi.naver.com/v1/search/local.\"\n",
    "    option = \"&display=5&sort=count\"\n",
    "    query = \"?query=\"+urllib.parse.quote(keyword)\n",
    "    url_query = url + callType.lower() + query + option\n",
    "    print(url_query)\n",
    "    \n",
    "    #Open API 검색 요청 개체 설정\n",
    "    request = urllib.request.Request(url_query)\n",
    "    request.add_header(\"X-Naver-Client-Id\",client_id)\n",
    "    request.add_header(\"X-Naver-Client-Secret\",client_secret)\n",
    "\n",
    "    #검색 요청 및 처리\n",
    "    response = urllib.request.urlopen(request)\n",
    "    rescode = response.getcode()\n",
    "\n",
    "    if(rescode == 200):\n",
    "        if callType == 'JSON':\n",
    "            response_body = response.read()\n",
    "            dataList = json.loads(response_body)\n",
    "            count = 1\n",
    "\n",
    "            for data in dataList['items']:\n",
    "                print(count , ':' , data['title'] , ',' , data['address'])\n",
    "                count += 1\n",
    "        else:\n",
    "            #print(response.read().decode('utf-8'), 'xml')\n",
    "            soup = BeautifulSoup(response.read().decode('utf-8'), 'xml')\n",
    "            count = 1\n",
    "            for itemList in soup.find_all('item'):\n",
    "                title = itemList.find('title').string\n",
    "                address = itemList.find('address').string\n",
    "                print(count, ':', title, ',', address)\n",
    "                count += 1\n",
    "    else:\n",
    "        print(\"Error code:\"+rescode)\n",
    "\n",
    "    "
   ]
  },
  {
   "cell_type": "code",
   "execution_count": 80,
   "metadata": {},
   "outputs": [
    {
     "name": "stdout",
     "output_type": "stream",
     "text": [
      "https://openapi.naver.com/v1/search/local.json?query=%ED%94%BC%EC%9E%90&display=5&sort=count\n",
      "1 : 피제리아 일피노 인천 송도점 , 인천광역시 연수구 송도동 20-22\n",
      "2 : 더식당 , 서울특별시 중구 명동2가 31-4\n",
      "3 : 피제리아일피노 인천롯데점 , 인천광역시 남동구 구월동 1142-20\n",
      "4 : 대산보리밥 , 충청북도 청주시 서원구 죽림동 77-2\n",
      "5 : 산토리니 , 강원도 춘천시 동면 장학리 144-16\n"
     ]
    }
   ],
   "source": [
    "naver_search('짜장면','XML')"
   ]
  },
  {
   "cell_type": "code",
   "execution_count": 82,
   "metadata": {},
   "outputs": [
    {
     "name": "stdout",
     "output_type": "stream",
     "text": [
      "https://openapi.naver.com/v1/search/local.json?query=%EC%8C%80%EA%B5%AD%EC%88%98&display=5&sort=count\n",
      "1 : 땀땀 , 서울특별시 강남구 역삼동 817-31\n",
      "2 : 소이연남 , 서울특별시 마포구 연남동 229-67\n",
      "3 : 타이방콕 , 충청남도 천안시 서북구 두정동 717\n",
      "4 : 안녕베트남 , 서울특별시 관악구 봉천동 1619-1\n",
      "5 : 뎁짜이 , 서울특별시 종로구 명륜4가 170-2\n"
     ]
    }
   ],
   "source": [
    "naver_search('쌀국수')"
   ]
  }
 ],
 "metadata": {
  "kernelspec": {
   "display_name": "pydatavenv",
   "language": "python",
   "name": "pydatavenv"
  },
  "language_info": {
   "codemirror_mode": {
    "name": "ipython",
    "version": 3
   },
   "file_extension": ".py",
   "mimetype": "text/x-python",
   "name": "python",
   "nbconvert_exporter": "python",
   "pygments_lexer": "ipython3",
   "version": "3.8.8"
  }
 },
 "nbformat": 4,
 "nbformat_minor": 4
}
